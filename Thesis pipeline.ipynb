{
 "cells": [
  {
   "cell_type": "code",
   "execution_count": null,
   "metadata": {
    "collapsed": true
   },
   "outputs": [],
   "source": [
    "import wikipedia\n",
    "import csv\n",
    "import codecs\n",
    "import sys\n",
    "reload(sys)\n",
    "sys.setdefaultencoding('utf8')\n",
    "\n",
    "# set up from the beginning the language of the wiki pages\n",
    "wikipedia.set_lang('nl')\n",
    "\n",
    "\n",
    "def parseWikiPage(wikiPageLink, wikiPageIndex):\n",
    "\t# now we can process this wiki page\n",
    "\t# we need only the name of the article in which we replace every \"_\" character with a space \" \"\n",
    "\twikiPageName = wikiPageLink.split('/')[-1]\n",
    "\twikiPageNameToSearch = wikiPageName.replace('_', ' ')\n",
    "\n",
    "\t# get the content of the wiki page\n",
    "\twikiPage = wikipedia.page(wikiPageNameToSearch)\n",
    "\n",
    "\t# get the title of the wiki page\n",
    "\ttitle = wikiPage.title\n",
    "\n",
    "\t# get the entire content of the page \n",
    "\tcontent = wikiPage.content\n",
    "\tparagraphs = content.split('\\n')\n",
    "\n",
    "\t#create a csv file for each such wiki link where we store the content\n",
    "\toutputFileName = wikiPageNameToSearch + '.csv'\n",
    "\tlineCount = 0\n",
    "\twith codecs.open(outputFileName,'w',encoding='utf8') as csvfile:\n",
    "\t\tfieldnames = ['Page Index', 'URL', 'Section Index', 'Section']\n",
    "\t\twriter = csv.DictWriter(csvfile, fieldnames=fieldnames)\n",
    "\t\twriter.writeheader()\n",
    "\t   \n",
    "\t\tfor section in paragraphs:\n",
    "\t\t\tif section == '== Externe links ==':\n",
    "\t\t\t\tbreak\n",
    "\n",
    "\t\t\telif section != '':\n",
    "\t\t\t\t# it means it's not empty, so we want to print it\n",
    "\t\t\t\tlineCount = lineCount + 1\n",
    "\t\t\t\twriter.writerow({'Page Index':wikiPageIndex, 'URL':wikiPageLink, 'Section Index': lineCount, 'Section':section})\n",
    "\n",
    "\tprint(paragraphs)\n",
    "\n",
    "\treturn paragraphs\n",
    "\n",
    "\n",
    "# open and read from a csv file that contains the URLs of the Wikipedia pages\n",
    "# the CSV file needs to contain a column called \"URL\" that contains the actual link to the wiki pages\n",
    "with codecs.open('WikipediapagesformattedUPDATE.csv','r',encoding='utf8') as csvfile:\n",
    "    reader = csv.DictReader(csvfile)\n",
    "\t# go through each line in the csv\n",
    "    for row in reader:\n",
    "\t\t# extract the Wikipedia link \n",
    "\t\twikiPageLink = row['URL']\n",
    "\t\tprint(wikiPageLink)\n",
    "\n",
    "\t\tparseWikiPage(wikiPageLink, row['Index'])"
   ]
  },
  {
   "cell_type": "code",
   "execution_count": null,
   "metadata": {
    "collapsed": true
   },
   "outputs": [],
   "source": [
    "import pandas as pd\n",
    "import numpy as np\n",
    "\n",
    "df = pd.read_csv('basis_vocab.csv', sep=';', na_values=['NaN'])\n",
    "df\n",
    "df.dropna(subset = ['geboortedatum', 'sterfdatum']).to_csv('basisvocabcleaned.csv')"
   ]
  },
  {
   "cell_type": "code",
   "execution_count": null,
   "metadata": {
    "collapsed": true
   },
   "outputs": [],
   "source": [
    "import pandas as pd\n",
    "import numpy as np\n",
    "\n",
    "df = pd.read_csv('basisvocabcleaned.csv', sep=',', dtype={\"naam\": object, \"geboorteplaats\": object, \"echtgenoot\": object})\n",
    "df.drop_duplicates(['naam', 'geboortedatum', 'sterfdatum', 'leeftijd', 'functie'], keep=False).to_csv('basicvocabwithdoub.csv')"
   ]
  },
  {
   "cell_type": "code",
   "execution_count": null,
   "metadata": {
    "collapsed": true
   },
   "outputs": [],
   "source": [
    "import pandas as pd\n",
    "import numpy as np\n",
    "\n",
    "df = pd.read_csv('basicvocabwithdoub.csv', sep=',', dtype={\"naam\": object, \"geboorteplaats\": object, \"echtgenoot\": object})\n",
    "df.drop_duplicates(['naam', 'geboortedatum', 'sterfdatum', 'geboorteplaats', 'functie'], keep=False).to_csv('FINALbasicvocabwithdoub.csv')"
   ]
  },
  {
   "cell_type": "code",
   "execution_count": null,
   "metadata": {
    "collapsed": true
   },
   "outputs": [],
   "source": [
    "import pandas as pd\n",
    "import numpy as np\n",
    "\n",
    "df = pd.read_csv('FINALbasicvocabwithdoub.csv', sep=',', dtype={\"naam\": object, \"geboorteplaats\": object, \"echtgenoot\": object})\n",
    "df\n",
    "df[df.duplicated(['geboortedatum', 'sterfdatum'], keep=False)].to_csv('double_dateofbirthdeath.csv')"
   ]
  },
  {
   "cell_type": "code",
   "execution_count": null,
   "metadata": {
    "collapsed": true
   },
   "outputs": [],
   "source": [
    "import pandas as pd\n",
    "import numpy as np\n",
    "\n",
    "df = pd.read_csv('FINALbasicvocabwithdoub.csv', sep=',', dtype={\"naam\": object, \"geboorteplaats\": object, \"echtgenoot\": object})\n",
    "df\n",
    "df.drop_duplicates(['geboortedatum', 'sterfdatum'], keep=False).to_csv('basicvocab(nodoub).csv')"
   ]
  }
 ],
 "metadata": {
  "anaconda-cloud": {},
  "kernelspec": {
   "display_name": "Python [default]",
   "language": "python",
   "name": "python2"
  },
  "language_info": {
   "codemirror_mode": {
    "name": "ipython",
    "version": 2
   },
   "file_extension": ".py",
   "mimetype": "text/x-python",
   "name": "python",
   "nbconvert_exporter": "python",
   "pygments_lexer": "ipython2",
   "version": "2.7.12"
  }
 },
 "nbformat": 4,
 "nbformat_minor": 1
}
